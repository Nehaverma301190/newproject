{
 "cells": [
  {
   "cell_type": "code",
   "execution_count": 3,
   "id": "c5cd3d1b",
   "metadata": {},
   "outputs": [],
   "source": [
    "import pandas as pd"
   ]
  },
  {
   "cell_type": "code",
   "execution_count": 4,
   "id": "20de6c96",
   "metadata": {},
   "outputs": [],
   "source": [
    "df=pd.read_csv(\"diabetes.csv\")"
   ]
  },
  {
   "cell_type": "code",
   "execution_count": 5,
   "id": "38f644d4",
   "metadata": {},
   "outputs": [
    {
     "data": {
      "text/html": [
       "<div>\n",
       "<style scoped>\n",
       "    .dataframe tbody tr th:only-of-type {\n",
       "        vertical-align: middle;\n",
       "    }\n",
       "\n",
       "    .dataframe tbody tr th {\n",
       "        vertical-align: top;\n",
       "    }\n",
       "\n",
       "    .dataframe thead th {\n",
       "        text-align: right;\n",
       "    }\n",
       "</style>\n",
       "<table border=\"1\" class=\"dataframe\">\n",
       "  <thead>\n",
       "    <tr style=\"text-align: right;\">\n",
       "      <th></th>\n",
       "      <th>Pregnancies</th>\n",
       "      <th>Glucose</th>\n",
       "      <th>BloodPressure</th>\n",
       "      <th>SkinThickness</th>\n",
       "      <th>Insulin</th>\n",
       "      <th>BMI</th>\n",
       "      <th>DiabetesPedigreeFunction</th>\n",
       "      <th>Age</th>\n",
       "      <th>Outcome</th>\n",
       "    </tr>\n",
       "  </thead>\n",
       "  <tbody>\n",
       "    <tr>\n",
       "      <th>0</th>\n",
       "      <td>6</td>\n",
       "      <td>148</td>\n",
       "      <td>72</td>\n",
       "      <td>35</td>\n",
       "      <td>0</td>\n",
       "      <td>33.6</td>\n",
       "      <td>0.627</td>\n",
       "      <td>50</td>\n",
       "      <td>1</td>\n",
       "    </tr>\n",
       "    <tr>\n",
       "      <th>1</th>\n",
       "      <td>1</td>\n",
       "      <td>85</td>\n",
       "      <td>66</td>\n",
       "      <td>29</td>\n",
       "      <td>0</td>\n",
       "      <td>26.6</td>\n",
       "      <td>0.351</td>\n",
       "      <td>31</td>\n",
       "      <td>0</td>\n",
       "    </tr>\n",
       "    <tr>\n",
       "      <th>2</th>\n",
       "      <td>8</td>\n",
       "      <td>183</td>\n",
       "      <td>64</td>\n",
       "      <td>0</td>\n",
       "      <td>0</td>\n",
       "      <td>23.3</td>\n",
       "      <td>0.672</td>\n",
       "      <td>32</td>\n",
       "      <td>1</td>\n",
       "    </tr>\n",
       "    <tr>\n",
       "      <th>3</th>\n",
       "      <td>1</td>\n",
       "      <td>89</td>\n",
       "      <td>66</td>\n",
       "      <td>23</td>\n",
       "      <td>94</td>\n",
       "      <td>28.1</td>\n",
       "      <td>0.167</td>\n",
       "      <td>21</td>\n",
       "      <td>0</td>\n",
       "    </tr>\n",
       "    <tr>\n",
       "      <th>4</th>\n",
       "      <td>0</td>\n",
       "      <td>137</td>\n",
       "      <td>40</td>\n",
       "      <td>35</td>\n",
       "      <td>168</td>\n",
       "      <td>43.1</td>\n",
       "      <td>2.288</td>\n",
       "      <td>33</td>\n",
       "      <td>1</td>\n",
       "    </tr>\n",
       "    <tr>\n",
       "      <th>...</th>\n",
       "      <td>...</td>\n",
       "      <td>...</td>\n",
       "      <td>...</td>\n",
       "      <td>...</td>\n",
       "      <td>...</td>\n",
       "      <td>...</td>\n",
       "      <td>...</td>\n",
       "      <td>...</td>\n",
       "      <td>...</td>\n",
       "    </tr>\n",
       "    <tr>\n",
       "      <th>763</th>\n",
       "      <td>10</td>\n",
       "      <td>101</td>\n",
       "      <td>76</td>\n",
       "      <td>48</td>\n",
       "      <td>180</td>\n",
       "      <td>32.9</td>\n",
       "      <td>0.171</td>\n",
       "      <td>63</td>\n",
       "      <td>0</td>\n",
       "    </tr>\n",
       "    <tr>\n",
       "      <th>764</th>\n",
       "      <td>2</td>\n",
       "      <td>122</td>\n",
       "      <td>70</td>\n",
       "      <td>27</td>\n",
       "      <td>0</td>\n",
       "      <td>36.8</td>\n",
       "      <td>0.340</td>\n",
       "      <td>27</td>\n",
       "      <td>0</td>\n",
       "    </tr>\n",
       "    <tr>\n",
       "      <th>765</th>\n",
       "      <td>5</td>\n",
       "      <td>121</td>\n",
       "      <td>72</td>\n",
       "      <td>23</td>\n",
       "      <td>112</td>\n",
       "      <td>26.2</td>\n",
       "      <td>0.245</td>\n",
       "      <td>30</td>\n",
       "      <td>0</td>\n",
       "    </tr>\n",
       "    <tr>\n",
       "      <th>766</th>\n",
       "      <td>1</td>\n",
       "      <td>126</td>\n",
       "      <td>60</td>\n",
       "      <td>0</td>\n",
       "      <td>0</td>\n",
       "      <td>30.1</td>\n",
       "      <td>0.349</td>\n",
       "      <td>47</td>\n",
       "      <td>1</td>\n",
       "    </tr>\n",
       "    <tr>\n",
       "      <th>767</th>\n",
       "      <td>1</td>\n",
       "      <td>93</td>\n",
       "      <td>70</td>\n",
       "      <td>31</td>\n",
       "      <td>0</td>\n",
       "      <td>30.4</td>\n",
       "      <td>0.315</td>\n",
       "      <td>23</td>\n",
       "      <td>0</td>\n",
       "    </tr>\n",
       "  </tbody>\n",
       "</table>\n",
       "<p>768 rows × 9 columns</p>\n",
       "</div>"
      ],
      "text/plain": [
       "     Pregnancies  Glucose  BloodPressure  SkinThickness  Insulin   BMI  \\\n",
       "0              6      148             72             35        0  33.6   \n",
       "1              1       85             66             29        0  26.6   \n",
       "2              8      183             64              0        0  23.3   \n",
       "3              1       89             66             23       94  28.1   \n",
       "4              0      137             40             35      168  43.1   \n",
       "..           ...      ...            ...            ...      ...   ...   \n",
       "763           10      101             76             48      180  32.9   \n",
       "764            2      122             70             27        0  36.8   \n",
       "765            5      121             72             23      112  26.2   \n",
       "766            1      126             60              0        0  30.1   \n",
       "767            1       93             70             31        0  30.4   \n",
       "\n",
       "     DiabetesPedigreeFunction  Age  Outcome  \n",
       "0                       0.627   50        1  \n",
       "1                       0.351   31        0  \n",
       "2                       0.672   32        1  \n",
       "3                       0.167   21        0  \n",
       "4                       2.288   33        1  \n",
       "..                        ...  ...      ...  \n",
       "763                     0.171   63        0  \n",
       "764                     0.340   27        0  \n",
       "765                     0.245   30        0  \n",
       "766                     0.349   47        1  \n",
       "767                     0.315   23        0  \n",
       "\n",
       "[768 rows x 9 columns]"
      ]
     },
     "execution_count": 5,
     "metadata": {},
     "output_type": "execute_result"
    }
   ],
   "source": [
    "df"
   ]
  },
  {
   "cell_type": "markdown",
   "id": "79a19edf",
   "metadata": {},
   "source": [
    "## 1.Basic exploration of data and explain missing values, number of rows and columns and data types in statistical term"
   ]
  },
  {
   "cell_type": "markdown",
   "id": "39ae1b32",
   "metadata": {},
   "source": [
    "We can observe that the data set contain 768 rows and 9 columns. \n",
    "’Outcome’ is the column which we are going to predict, which says if the patient is diabetic or not. \n",
    "1 means the person is diabetic and 0 means a person is not.\n",
    "We can identify that out of the 768 persons, 500 are labeled as 0 (non-diabetic) and 268 as 1 (diabetic)\n",
    "\n"
   ]
  },
  {
   "cell_type": "code",
   "execution_count": 6,
   "id": "bc8e3b4d",
   "metadata": {},
   "outputs": [
    {
     "data": {
      "text/plain": [
       "Outcome\n",
       "0    500\n",
       "1    268\n",
       "dtype: int64"
      ]
     },
     "execution_count": 6,
     "metadata": {},
     "output_type": "execute_result"
    }
   ],
   "source": [
    "df.groupby('Outcome').size()"
   ]
  },
  {
   "cell_type": "markdown",
   "id": "2aac4c82",
   "metadata": {},
   "source": [
    "## Missing or Null Data points"
   ]
  },
  {
   "cell_type": "code",
   "execution_count": 7,
   "id": "a1b71eb3",
   "metadata": {},
   "outputs": [
    {
     "data": {
      "text/plain": [
       "Pregnancies                 0\n",
       "Glucose                     0\n",
       "BloodPressure               0\n",
       "SkinThickness               0\n",
       "Insulin                     0\n",
       "BMI                         0\n",
       "DiabetesPedigreeFunction    0\n",
       "Age                         0\n",
       "Outcome                     0\n",
       "dtype: int64"
      ]
     },
     "execution_count": 7,
     "metadata": {},
     "output_type": "execute_result"
    }
   ],
   "source": [
    "df.isnull().sum()\n",
    "df.isna().sum()"
   ]
  },
  {
   "cell_type": "markdown",
   "id": "a5fa867f",
   "metadata": {},
   "source": [
    "We can observe that there are no data points missing in the data set. \n",
    "If there were any, we should deal with them accordingly."
   ]
  },
  {
   "cell_type": "markdown",
   "id": "640bf96a",
   "metadata": {},
   "source": [
    "## 2.Measures of central tendency for Glucose and outcome column only"
   ]
  },
  {
   "cell_type": "code",
   "execution_count": 18,
   "id": "168baa0b",
   "metadata": {
    "scrolled": true
   },
   "outputs": [
    {
     "name": "stdout",
     "output_type": "stream",
     "text": [
      "Mean of Glucose Column is: 120.89453125\n",
      "Median of Glucose Column is: 117.0\n",
      "Mode of Glucose Column is: 0     99\n",
      "1    100\n",
      "dtype: int64\n",
      "Mean of Outcome Column is: 0.3489583333333333\n",
      "Median of Outcome Column is: 0.0\n",
      "Mode of Outcome Column is: 0    0\n",
      "dtype: int64\n"
     ]
    }
   ],
   "source": [
    "mean_glucose=df['Glucose'].mean()\n",
    "mode_glucose=df['Glucose'].mode()\n",
    "median_glucose=df['Glucose'].median()\n",
    "mean_outcome=df['Outcome'].mean()\n",
    "mode_outcome=df['Outcome'].mode()\n",
    "median_outcome=df['Outcome'].median()\n",
    "print(\"Mean of Glucose Column is:\",mean_glucose)\n",
    "print(\"Median of Glucose Column is:\",median_glucose)\n",
    "print(\"Mode of Glucose Column is:\",mode_glucose)\n",
    "print(\"Mean of Outcome Column is:\",mean_outcome)\n",
    "print(\"Median of Outcome Column is:\",median_outcome)\n",
    "print(\"Mode of Outcome Column is:\",mode_outcome)\n",
    "\n"
   ]
  },
  {
   "cell_type": "markdown",
   "id": "8bf87931",
   "metadata": {},
   "source": [
    " ## 3.5 points data summaries for required columns"
   ]
  },
  {
   "cell_type": "code",
   "execution_count": null,
   "id": "f3ed2165",
   "metadata": {},
   "outputs": [],
   "source": [
    "\n"
   ]
  },
  {
   "cell_type": "markdown",
   "id": "53e93871",
   "metadata": {},
   "source": [
    "## 4.Create an appropriate plot to examine the relationship between Age and Glucose"
   ]
  },
  {
   "cell_type": "code",
   "execution_count": 42,
   "id": "6ca52661",
   "metadata": {},
   "outputs": [
    {
     "data": {
      "text/plain": [
       "Text(0.5, 1.0, 'Relationship between Age and Glucose')"
      ]
     },
     "execution_count": 42,
     "metadata": {},
     "output_type": "execute_result"
    },
    {
     "data": {
      "image/png": "[encoded data removed]",
      "text/plain": [
       "<Figure size 432x288 with 1 Axes>"
      ]
     },
     "metadata": {
      "needs_background": "light"
     },
     "output_type": "display_data"
    }
   ],
   "source": [
    "import matplotlib.pyplot as plt\n",
    "import numpy as np\n",
    "plt.scatter(df['Age'],df['Glucose'])\n",
    "plt.xlabel(\"Age\")\n",
    "plt.ylabel(\"Glucose\")\n",
    "plt.title('Relationship between Age and Glucose')\n"
   ]
  },
  {
   "cell_type": "markdown",
   "id": "7e958a70",
   "metadata": {},
   "source": [
    "As from the above graph we can see that with growing age glucose level is decreasing as we can see majority of population lies between the gae group of 20 to 50"
   ]
  },
  {
   "cell_type": "markdown",
   "id": "df4e886c",
   "metadata": {},
   "source": [
    "## 5.Create an appropriate plot to see the distribution of Outcome variable"
   ]
  },
  {
   "cell_type": "code",
   "execution_count": 9,
   "id": "b1f309b4",
   "metadata": {},
   "outputs": [
    {
     "data": {
      "text/plain": [
       "Text(0.5, 1.0, 'Distribution of Outcome Variable')"
      ]
     },
     "execution_count": 9,
     "metadata": {},
     "output_type": "execute_result"
    },
    {
     "data": {
      "image/png": "[encoded data removed]",
      "text/plain": [
       "<Figure size 432x288 with 1 Axes>"
      ]
     },
     "metadata": {
      "needs_background": "light"
     },
     "output_type": "display_data"
    }
   ],
   "source": [
    "import matplotlib.pyplot as plt\n",
    "import numpy as np\n",
    "plt.hist(df['Outcome'])\n",
    "plt.xlabel(\"Outcome\")\n",
    "plt.ylabel(\"Count\")\n",
    "plt.title('Distribution of Outcome Variable')\n"
   ]
  },
  {
   "cell_type": "markdown",
   "id": "d2be065f",
   "metadata": {},
   "source": [
    "From the above graph we can see that the outcome distribution is either 1 or 0 therefore from here we can find the count of 1 or 0 "
   ]
  },
  {
   "cell_type": "markdown",
   "id": "60bbcbae",
   "metadata": {},
   "source": [
    "## 6.The distribution of numerical data and explain which variable normally distributed and which variable is seems to be skewed. Please also tell the direction of skewness."
   ]
  },
  {
   "cell_type": "code",
   "execution_count": 11,
   "id": "16bdd9f8",
   "metadata": {},
   "outputs": [
    {
     "name": "stdout",
     "output_type": "stream",
     "text": [
      "Pregnancies                 0.901674\n",
      "Glucose                     0.173754\n",
      "BloodPressure              -1.843608\n",
      "SkinThickness               0.109372\n",
      "Insulin                     2.272251\n",
      "BMI                        -0.428982\n",
      "DiabetesPedigreeFunction    1.919911\n",
      "Age                         1.129597\n",
      "Outcome                     0.635017\n",
      "dtype: float64\n"
     ]
    }
   ],
   "source": [
    "print(df.skew())"
   ]
  },
  {
   "cell_type": "markdown",
   "id": "b35ffebd",
   "metadata": {},
   "source": [
    "Highly skewed distribution: If the skewness value is less than −1 or greater than +1.Therefore highly Skewed Variables are: BloodPressure, Insulin, DiabetesPedigreeFunction, Age\n",
    "\n",
    "Moderately skewed distribution: If the skewness value is between −1 and −½ or between +½ and +1.Variables fall under these category are:Pregnancies, Outcome\n",
    "\n",
    "Normal Distribution: Variables under these category are: Glucose,Skinthickness, BMI\n",
    "\n",
    "Left Skewed Variables:BloodPressure, BMI\n",
    "\n",
    "Right Skewed Variables:Insulin, DiabetesPedigreeFunction, Outcome \n",
    "\n"
   ]
  },
  {
   "cell_type": "markdown",
   "id": "6b29dd87",
   "metadata": {},
   "source": [
    "## 7.calculate the skewness value and divide variables into symmetrical, moderately skewed and highly skewed."
   ]
  },
  {
   "cell_type": "code",
   "execution_count": 13,
   "id": "5af03bfc",
   "metadata": {},
   "outputs": [
    {
     "name": "stdout",
     "output_type": "stream",
     "text": [
      "Pregnancies                 0.901674\n",
      "Glucose                     0.173754\n",
      "BloodPressure              -1.843608\n",
      "SkinThickness               0.109372\n",
      "Insulin                     2.272251\n",
      "BMI                        -0.428982\n",
      "DiabetesPedigreeFunction    1.919911\n",
      "Age                         1.129597\n",
      "Outcome                     0.635017\n",
      "dtype: float64\n"
     ]
    }
   ],
   "source": [
    "print(df.skew())"
   ]
  },
  {
   "cell_type": "markdown",
   "id": "c9a19b6e",
   "metadata": {},
   "source": [
    "Highly skewed distribution: If the skewness value is less than −1 or greater than +1.\n",
    "Therefore highly Skewed Variables are: BloodPressure, Insulin, DiabetesPedigreeFunction, Age\n",
    "\n",
    "Moderately skewed distribution: If the skewness value is between −1 and −½ or between +½ and +1.\n",
    "Variables fall under these category are:Pregnancies, Outcome\n",
    "\n",
    "Approximately symmetric distribution: If the skewness value is between −½ and +½.\n",
    " Variables under these category are: Glucose,Skinthickness, BMI"
   ]
  },
  {
   "cell_type": "markdown",
   "id": "3dc519d9",
   "metadata": {},
   "source": [
    "## 8.Create appropriate plot to examine the outliers of these variables. Please name the variables which have outliers."
   ]
  },
  {
   "cell_type": "code",
   "execution_count": 44,
   "id": "c7d12120",
   "metadata": {},
   "outputs": [
    {
     "data": {
      "image/png": "[encoded data removed]",
      "text/plain": [
       "<Figure size 432x288 with 1 Axes>"
      ]
     },
     "metadata": {
      "needs_background": "light"
     },
     "output_type": "display_data"
    }
   ],
   "source": [
    "import seaborn as sns\n",
    "ax = df[['Pregnancies', 'Glucose','BloodPressure','SkinThickness','Insulin','BMI','DiabetesPedigreeFunction','Age','Outcome']].plot(kind='box', title='boxplot', showmeans=True)\n"
   ]
  },
  {
   "cell_type": "markdown",
   "id": "e85f95d8",
   "metadata": {},
   "source": [
    "From the above boxplot we can find the outliers variables, except outcome variable every other variable is outlier"
   ]
  },
  {
   "cell_type": "markdown",
   "id": "ee896c10",
   "metadata": {},
   "source": [
    "## 9.What should be the measures of central tendency and dispersion for skewed data"
   ]
  },
  {
   "cell_type": "markdown",
   "id": "942013e6",
   "metadata": {},
   "source": [
    "As median is considered best measure of central Tendency for skewed data. so in Q7 we have seen the variables which are highly \n",
    "and moderately skewed . So here is the value of median and dispersion(Standard Deviation) for every skewed variable"
   ]
  },
  {
   "cell_type": "code",
   "execution_count": 40,
   "id": "131d6214",
   "metadata": {},
   "outputs": [
    {
     "name": "stdout",
     "output_type": "stream",
     "text": [
      "Median of BloodPressure Column is: 72.0\n",
      "Median of Insulin Column is: 30.5\n",
      "Median of DiabetesPedigreeFunction Column is: 0.3725\n",
      "Median of Age Column is: 29.0\n",
      "Median of Pregnancies Column is: 3.0\n",
      "Median of Outcome Column is: 0.0\n"
     ]
    }
   ],
   "source": [
    "median_BloodPressure=df['BloodPressure'].median()\n",
    "median_Insulin=df['Insulin'].median()\n",
    "median_DiabetesPedigreeFunction=df['DiabetesPedigreeFunction'].median()\n",
    "median_Age=df['Age'].median()\n",
    "median_Pregnancies=df['Pregnancies'].median()\n",
    "median_Outcome=df['Outcome'].median()\n",
    "print(\"Median of BloodPressure Column is:\",median_BloodPressure)\n",
    "print(\"Median of Insulin Column is:\",median_Insulin)\n",
    "print(\"Median of DiabetesPedigreeFunction Column is:\",median_DiabetesPedigreeFunction)\n",
    "print(\"Median of Age Column is:\",median_Age)\n",
    "print(\"Median of Pregnancies Column is:\",median_Pregnancies)\n",
    "print(\"Median of Outcome Column is:\",median_Outcome)\n"
   ]
  },
  {
   "cell_type": "code",
   "execution_count": 49,
   "id": "5edfae7d",
   "metadata": {},
   "outputs": [
    {
     "name": "stdout",
     "output_type": "stream",
     "text": [
      "standard Deviation of BloodPressure is: 19.355807170644777\n",
      "standard Deviation of Insulin is: 115.24400235133817\n",
      "standard Deviation of DiabetesPedigreeFunction  is: 0.3313285950127749\n",
      "standard Deviation of Age is: 11.760231540678685\n",
      "standard Deviation of Pregnancies is: 3.36957806269887\n",
      "standard Deviation of Outcome is: 0.47695137724279896\n"
     ]
    }
   ],
   "source": [
    "import statistics as st\n",
    "\n",
    "print(\"standard Deviation of BloodPressure is:\",st.stdev(df['BloodPressure']))\n",
    "print(\"standard Deviation of Insulin is:\",st.stdev(df['Insulin']))\n",
    "print(\"standard Deviation of DiabetesPedigreeFunction  is:\",st.stdev(df['DiabetesPedigreeFunction']))\n",
    "print(\"standard Deviation of Age is:\",st.stdev(df['Age']))\n",
    "print(\"standard Deviation of Pregnancies is:\",st.stdev(df['Pregnancies']))\n",
    "print(\"standard Deviation of Outcome is:\",st.stdev(df['Outcome']))"
   ]
  },
  {
   "cell_type": "code",
   "execution_count": null,
   "id": "48cffdc3",
   "metadata": {},
   "outputs": [],
   "source": []
  }
 ],
 "metadata": {
  "kernelspec": {
   "display_name": "Python 3",
   "language": "python",
   "name": "python3"
  },
  "language_info": {
   "codemirror_mode": {
    "name": "ipython",
    "version": 3
   },
   "file_extension": ".py",
   "mimetype": "text/x-python",
   "name": "python",
   "nbconvert_exporter": "python",
   "pygments_lexer": "ipython3",
   "version": "3.8.8"
  }
 },
 "nbformat": 4,
 "nbformat_minor": 5
}
